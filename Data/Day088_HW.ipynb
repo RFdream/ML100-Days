{
  "nbformat": 4,
  "nbformat_minor": 0,
  "metadata": {
    "colab": {
      "name": "Day088_HW.ipynb",
      "version": "0.3.2",
      "provenance": [],
      "collapsed_sections": [],
      "include_colab_link": true
    },
    "language_info": {
      "codemirror_mode": {
        "name": "ipython",
        "version": 3
      },
      "file_extension": ".py",
      "mimetype": "text/x-python",
      "name": "python",
      "nbconvert_exporter": "python",
      "pygments_lexer": "ipython3",
      "version": "3.6.5"
    },
    "kernelspec": {
      "display_name": "Python 3",
      "language": "python",
      "name": "python3"
    }
  },
  "cells": [
    {
      "cell_type": "markdown",
      "metadata": {
        "id": "view-in-github",
        "colab_type": "text"
      },
      "source": [
        "<a href=\"https://colab.research.google.com/github/RFdream/ML100-Days/blob/master/Data/Day088_HW.ipynb\" target=\"_parent\"><img src=\"https://colab.research.google.com/assets/colab-badge.svg\" alt=\"Open In Colab\"/></a>"
      ]
    },
    {
      "metadata": {
        "id": "41ggWr3OAeDD",
        "colab_type": "text"
      },
      "cell_type": "markdown",
      "source": [
        "## Work\n",
        "1. 請嘗試寫一個 callback 用來記錄各類別在訓練過程中，對驗證集的 True Positive 與 True Negative"
      ]
    },
    {
      "metadata": {
        "id": "2NfEfTreAeDF",
        "colab_type": "code",
        "colab": {}
      },
      "cell_type": "code",
      "source": [
        "import os\n",
        "import keras\n",
        "from keras.layers import Dense, Input\n",
        "from keras.models import Model\n",
        "# Disable GPU\n",
        "os.environ[\"CUDA_VISIBLE_DEVICES\"] = \"\""
      ],
      "execution_count": 0,
      "outputs": []
    },
    {
      "metadata": {
        "id": "ygcTKd24AeDj",
        "colab_type": "code",
        "colab": {}
      },
      "cell_type": "code",
      "source": [
        "train, test = keras.datasets.cifar10.load_data()"
      ],
      "execution_count": 0,
      "outputs": []
    },
    {
      "metadata": {
        "id": "9iH7eu-EAeDm",
        "colab_type": "code",
        "colab": {}
      },
      "cell_type": "code",
      "source": [
        "## 資料前處理\n",
        "def preproc_x(x, flatten=True):\n",
        "    x = x / 255.\n",
        "    if flatten:\n",
        "        x = x.reshape((len(x), -1))\n",
        "    return x\n",
        "\n",
        "def preproc_y(y, num_classes=10):\n",
        "    if y.shape[-1] == 1:\n",
        "        y = keras.utils.to_categorical(y, num_classes)\n",
        "    return y    "
      ],
      "execution_count": 0,
      "outputs": []
    },
    {
      "metadata": {
        "id": "9rI83H61AeDp",
        "colab_type": "code",
        "colab": {}
      },
      "cell_type": "code",
      "source": [
        "x_train, y_train = train\n",
        "x_test, y_test = test\n",
        "\n",
        "# Preproc the inputs\n",
        "x_train = preproc_x(x_train)\n",
        "x_test = preproc_x(x_test)\n",
        "\n",
        "# Preprc the outputs\n",
        "y_train = preproc_y(y_train)\n",
        "y_test = preproc_y(y_test)"
      ],
      "execution_count": 0,
      "outputs": []
    },
    {
      "metadata": {
        "id": "HRXpunpFAeDr",
        "colab_type": "code",
        "colab": {
          "base_uri": "https://localhost:8080/",
          "height": 479
        },
        "outputId": "fd59a8f2-c18a-4eec-9344-0395ede283bb"
      },
      "cell_type": "code",
      "source": [
        "from keras.layers import BatchNormalization\n",
        "def build_mlp(input_shape=x_train.shape[1:], output_units=10, num_neurons=[256, 256, 256]):\n",
        "    input = Input(input_shape)\n",
        "    \n",
        "    for i, n_units in enumerate(num_neurons):\n",
        "        layer = Dense(units=n_units, activation='relu')\n",
        "        x = layer(input if i == 0 else x)\n",
        "        x = BatchNormalization()(x)\n",
        "        \n",
        "    out = Dense(units=output_units, activation='softmax')(x)\n",
        "    \n",
        "    return Model(inputs=[input], outputs=[out])\n",
        "\n",
        "def model_summary():\n",
        "    model = build_mlp()\n",
        "    model.summary()\n",
        "    \n",
        "model_summary()"
      ],
      "execution_count": 14,
      "outputs": [
        {
          "output_type": "stream",
          "text": [
            "WARNING:tensorflow:From /usr/local/lib/python3.6/dist-packages/tensorflow/python/framework/op_def_library.py:263: colocate_with (from tensorflow.python.framework.ops) is deprecated and will be removed in a future version.\n",
            "Instructions for updating:\n",
            "Colocations handled automatically by placer.\n",
            "_________________________________________________________________\n",
            "Layer (type)                 Output Shape              Param #   \n",
            "=================================================================\n",
            "input_1 (InputLayer)         (None, 3072)              0         \n",
            "_________________________________________________________________\n",
            "dense_1 (Dense)              (None, 256)               786688    \n",
            "_________________________________________________________________\n",
            "batch_normalization_1 (Batch (None, 256)               1024      \n",
            "_________________________________________________________________\n",
            "dense_2 (Dense)              (None, 256)               65792     \n",
            "_________________________________________________________________\n",
            "batch_normalization_2 (Batch (None, 256)               1024      \n",
            "_________________________________________________________________\n",
            "dense_3 (Dense)              (None, 256)               65792     \n",
            "_________________________________________________________________\n",
            "batch_normalization_3 (Batch (None, 256)               1024      \n",
            "_________________________________________________________________\n",
            "dense_4 (Dense)              (None, 10)                2570      \n",
            "=================================================================\n",
            "Total params: 923,914\n",
            "Trainable params: 922,378\n",
            "Non-trainable params: 1,536\n",
            "_________________________________________________________________\n"
          ],
          "name": "stdout"
        }
      ]
    },
    {
      "metadata": {
        "id": "pnLA-cPpAeDu",
        "colab_type": "code",
        "colab": {}
      },
      "cell_type": "code",
      "source": [
        "## 超參數設定\n",
        "LEARNING_RATE = 1e-3\n",
        "EPOCHS = 25\n",
        "BATCH_SIZE = 1024\n",
        "MOMENTUM = 0.95"
      ],
      "execution_count": 0,
      "outputs": []
    },
    {
      "metadata": {
        "id": "PteD5svhAeDy",
        "colab_type": "code",
        "colab": {}
      },
      "cell_type": "code",
      "source": [
        "# 載入 Callbacks\n",
        "from keras.callbacks import Callback\n",
        "\n",
        "\n",
        "# Record_fp_tp\n",
        "class Record_tp_tn(Callback):\n",
        "    def on_train_begin(self, epoch, logs={}):\n",
        "        logs = logs or {}\n",
        "        record_items = ['val_tpZ', 'val_tn']\n",
        "        for i in record_items:\n",
        "            if i not in self.params['metrics']:\n",
        "                self.params['metrics'].append(i)\n",
        "\n",
        "    def on_epoch_end(self, epoch, logs={}, thres=0.5):\n",
        "        logs = logs or {}\n",
        "        y_true = self.validation_data[1].argmax(axis=1)\n",
        "        y_pred = self.model.predict(self.validation_data[0])\n",
        "        y_pred = (y_pred[:, 1] >= thres) * 1\n",
        "        \n",
        "        logs['val_tp'] = sum(y_true * y_pred)\n",
        "        logs['val_tn'] = sum((y_true == 0) & (y_pred == 0))\n",
        "        \n",
        "rec_tptn = Record_tp_tn()"
      ],
      "execution_count": 0,
      "outputs": []
    },
    {
      "metadata": {
        "scrolled": true,
        "id": "7uN4OlTAAeD2",
        "colab_type": "code",
        "colab": {
          "base_uri": "https://localhost:8080/",
          "height": 955
        },
        "outputId": "fc3a3a28-ca64-49d1-ff86-803ef6cdeff6"
      },
      "cell_type": "code",
      "source": [
        "model = build_mlp()\n",
        "# model.summary()\n",
        "optimizer = keras.optimizers.SGD(lr=LEARNING_RATE, nesterov=True, momentum=MOMENTUM)\n",
        "model.compile(loss=\"categorical_crossentropy\", metrics=[\"accuracy\"], optimizer=optimizer)\n",
        "\n",
        "\"\"\"\n",
        "To do:\n",
        "Fit the model with rec_tptn callback_fn\n",
        "\"\"\"\n",
        "model.fit(\n",
        "    x_train,\n",
        "    y_train,\n",
        "    epochs=EPOCHS,\n",
        "    batch_size=BATCH_SIZE,\n",
        "    validation_data=(x_test, y_test),\n",
        "    shuffle=True,\n",
        "    callbacks=[rec_tptn]\n",
        ")\n",
        "\n",
        "# Collect results\n",
        "train_loss = model.history.history[\"loss\"]\n",
        "valid_loss = model.history.history[\"val_loss\"]\n",
        "train_acc = model.history.history[\"acc\"]\n",
        "valid_acc = model.history.history[\"val_acc\"]\n",
        "\n",
        "\"\"\"\n",
        "To do:\n",
        "Collect tp/tn from model history\n",
        "\"\"\"\n",
        "valid_tp = model.history.history['val_tp']\n",
        "valid_tn = model.history.history['val_tn']"
      ],
      "execution_count": 17,
      "outputs": [
        {
          "output_type": "stream",
          "text": [
            "WARNING:tensorflow:From /usr/local/lib/python3.6/dist-packages/tensorflow/python/ops/math_ops.py:3066: to_int32 (from tensorflow.python.ops.math_ops) is deprecated and will be removed in a future version.\n",
            "Instructions for updating:\n",
            "Use tf.cast instead.\n",
            "Train on 50000 samples, validate on 10000 samples\n",
            "Epoch 1/25\n",
            "50000/50000 [==============================] - 8s 159us/step - loss: 2.2195 - acc: 0.2705 - val_loss: 2.1225 - val_acc: 0.3028\n",
            "Epoch 2/25\n",
            "50000/50000 [==============================] - 6s 130us/step - loss: 1.7596 - acc: 0.3882 - val_loss: 1.8135 - val_acc: 0.3718\n",
            "Epoch 3/25\n",
            "50000/50000 [==============================] - 7s 131us/step - loss: 1.6356 - acc: 0.4289 - val_loss: 1.7121 - val_acc: 0.4051\n",
            "Epoch 4/25\n",
            "50000/50000 [==============================] - 7s 134us/step - loss: 1.5642 - acc: 0.4534 - val_loss: 1.6532 - val_acc: 0.4171\n",
            "Epoch 5/25\n",
            "50000/50000 [==============================] - 7s 130us/step - loss: 1.5093 - acc: 0.4734 - val_loss: 1.6063 - val_acc: 0.4345\n",
            "Epoch 6/25\n",
            "50000/50000 [==============================] - 6s 130us/step - loss: 1.4659 - acc: 0.4893 - val_loss: 1.5704 - val_acc: 0.4513\n",
            "Epoch 7/25\n",
            "50000/50000 [==============================] - 7s 131us/step - loss: 1.4273 - acc: 0.5045 - val_loss: 1.5488 - val_acc: 0.4557\n",
            "Epoch 8/25\n",
            "50000/50000 [==============================] - 7s 131us/step - loss: 1.3944 - acc: 0.5151 - val_loss: 1.5339 - val_acc: 0.4596\n",
            "Epoch 9/25\n",
            "50000/50000 [==============================] - 7s 130us/step - loss: 1.3638 - acc: 0.5264 - val_loss: 1.5173 - val_acc: 0.4629\n",
            "Epoch 10/25\n",
            "50000/50000 [==============================] - 7s 131us/step - loss: 1.3377 - acc: 0.5361 - val_loss: 1.5307 - val_acc: 0.4601\n",
            "Epoch 11/25\n",
            "50000/50000 [==============================] - 7s 130us/step - loss: 1.3120 - acc: 0.5452 - val_loss: 1.5080 - val_acc: 0.4725\n",
            "Epoch 12/25\n",
            "50000/50000 [==============================] - 7s 131us/step - loss: 1.2875 - acc: 0.5537 - val_loss: 1.4789 - val_acc: 0.4802\n",
            "Epoch 13/25\n",
            "50000/50000 [==============================] - 7s 131us/step - loss: 1.2644 - acc: 0.5620 - val_loss: 1.4686 - val_acc: 0.4847\n",
            "Epoch 14/25\n",
            "50000/50000 [==============================] - 7s 132us/step - loss: 1.2435 - acc: 0.5687 - val_loss: 1.4631 - val_acc: 0.4861\n",
            "Epoch 15/25\n",
            "50000/50000 [==============================] - 7s 131us/step - loss: 1.2210 - acc: 0.5763 - val_loss: 1.4590 - val_acc: 0.4847\n",
            "Epoch 16/25\n",
            "50000/50000 [==============================] - 6s 130us/step - loss: 1.2031 - acc: 0.5833 - val_loss: 1.4549 - val_acc: 0.4870\n",
            "Epoch 17/25\n",
            "50000/50000 [==============================] - 7s 132us/step - loss: 1.1814 - acc: 0.5939 - val_loss: 1.4514 - val_acc: 0.4968\n",
            "Epoch 18/25\n",
            "50000/50000 [==============================] - 7s 132us/step - loss: 1.1631 - acc: 0.5998 - val_loss: 1.4465 - val_acc: 0.4926\n",
            "Epoch 19/25\n",
            "50000/50000 [==============================] - 7s 131us/step - loss: 1.1457 - acc: 0.6057 - val_loss: 1.4504 - val_acc: 0.4939\n",
            "Epoch 20/25\n",
            "50000/50000 [==============================] - 7s 131us/step - loss: 1.1264 - acc: 0.6122 - val_loss: 1.4440 - val_acc: 0.4946\n",
            "Epoch 21/25\n",
            "50000/50000 [==============================] - 7s 131us/step - loss: 1.1092 - acc: 0.6196 - val_loss: 1.4386 - val_acc: 0.4990\n",
            "Epoch 22/25\n",
            "50000/50000 [==============================] - 7s 131us/step - loss: 1.0925 - acc: 0.6263 - val_loss: 1.4447 - val_acc: 0.4943\n",
            "Epoch 23/25\n",
            "50000/50000 [==============================] - 7s 130us/step - loss: 1.0747 - acc: 0.6308 - val_loss: 1.4509 - val_acc: 0.4928\n",
            "Epoch 24/25\n",
            "50000/50000 [==============================] - 7s 131us/step - loss: 1.0567 - acc: 0.6376 - val_loss: 1.4490 - val_acc: 0.4930\n",
            "Epoch 25/25\n",
            "50000/50000 [==============================] - 7s 132us/step - loss: 1.0404 - acc: 0.6435 - val_loss: 1.4454 - val_acc: 0.5007\n"
          ],
          "name": "stdout"
        }
      ]
    },
    {
      "metadata": {
        "id": "X6RDrHjvAeD7",
        "colab_type": "code",
        "colab": {
          "base_uri": "https://localhost:8080/",
          "height": 809
        },
        "outputId": "a7faba8f-1392-4efb-a14a-3ca957a4854e"
      },
      "cell_type": "code",
      "source": [
        "import matplotlib.pyplot as plt\n",
        "%matplotlib inline\n",
        "\n",
        "plt.plot(range(len(train_loss)), train_loss, label=\"train loss\")\n",
        "plt.plot(range(len(valid_loss)), valid_loss, label=\"valid loss\")\n",
        "plt.legend()\n",
        "plt.title(\"Loss\")\n",
        "plt.show()\n",
        "\n",
        "plt.plot(range(len(train_acc)), train_acc, label=\"train accuracy\")\n",
        "plt.plot(range(len(valid_acc)), valid_acc, label=\"valid accuracy\")\n",
        "plt.legend()\n",
        "plt.title(\"Accuracy\")\n",
        "plt.show()\n",
        "\n",
        "plt.plot(range(len(valid_tp)), valid_tp, label=\"valid tp\", color=\"navy\")\n",
        "plt.plot(range(len(valid_tn)), valid_tn, label=\"valid tn\", color=\"red\")\n",
        "plt.legend()\n",
        "plt.title(\"True positives and True Negatives\")\n",
        "plt.show()\n"
      ],
      "execution_count": 18,
      "outputs": [
        {
          "output_type": "display_data",
          "data": {
            "image/png": "[encoded data removed]",
            "text/plain": [
              "<Figure size 432x288 with 1 Axes>"
            ]
          },
          "metadata": {
            "tags": []
          }
        },
        {
          "output_type": "display_data",
          "data": {
            "image/png": "[encoded data removed]",
            "text/plain": [
              "<Figure size 432x288 with 1 Axes>"
            ]
          },
          "metadata": {
            "tags": []
          }
        },
        {
          "output_type": "display_data",
          "data": {
            "image/png": "[encoded data removed]",
            "text/plain": [
              "<Figure size 432x288 with 1 Axes>"
            ]
          },
          "metadata": {
            "tags": []
          }
        }
      ]
    },
    {
      "metadata": {
        "id": "XG-_KJInJTV6",
        "colab_type": "code",
        "colab": {}
      },
      "cell_type": "code",
      "source": [
        ""
      ],
      "execution_count": 0,
      "outputs": []
    }
  ]
}