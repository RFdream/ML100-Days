{
 "cells": [
  {
   "cell_type": "markdown",
   "metadata": {},
   "source": [
    "# 作業\n",
    "* 選擇分類資料集(右下)-螺旋雙臂 - 交錯六群，限定特徵只能使用前兩個，隱藏層 2 層滿 (共 8 * 2 =16 個神經元)，  \n",
    "  遞迴次數只允許跑到500次，但可以自由調整 批次大小、學習速率、啟動函數、正規化選項與參數\n",
    "* 在上述限制下，挑戰看看測試誤差 (Test Loss) 最低能到多少? 請回答你的上述幾項參數與 Test Loss 數"
   ]
  },
  {
   "cell_type": "code",
   "execution_count": 2,
   "metadata": {},
   "outputs": [],
   "source": [
    "import gensim, logging\n",
    "from gensim.models import word2vec"
   ]
  },
  {
   "cell_type": "markdown",
   "metadata": {
    "collapsed": true
   },
   "source": []
  },
  {
   "cell_type": "code",
   "execution_count": 3,
   "metadata": {},
   "outputs": [],
   "source": [
    "sentences = [['I am a hero', 'sentence'], ['She is a teacher', 'sentence']] \n",
    "\n",
    "# train word2vec on the two sentences  \n",
    "model = word2vec.Word2Vec(sentences, size=256, min_count=1, window=5, workers=4, sg=0)  \n",
    "\n",
    "# sg=0 表示COBW, sg=1 表示skip-gram\n"
   ]
  },
  {
   "cell_type": "code",
   "execution_count": 4,
   "metadata": {},
   "outputs": [
    {
     "name": "stdout",
     "output_type": "stream",
     "text": [
      "Word2Vec(vocab=3, size=256, alpha=0.025)\n"
     ]
    }
   ],
   "source": [
    "print(model)"
   ]
  },
  {
   "cell_type": "code",
   "execution_count": 5,
   "metadata": {},
   "outputs": [
    {
     "data": {
      "text/plain": [
       "0.03130682949072654"
      ]
     },
     "execution_count": 5,
     "metadata": {},
     "output_type": "execute_result"
    }
   ],
   "source": [
    "model.wv.similarity('I am a hero','She is a teacher')"
   ]
  },
  {
   "cell_type": "code",
   "execution_count": 6,
   "metadata": {},
   "outputs": [
    {
     "name": "stdout",
     "output_type": "stream",
     "text": [
      "sg=0, window=0\n",
      "similarity=0.03130682949072654\n",
      "\n",
      "sg=0, window=1\n",
      "similarity=0.03130682949072654\n",
      "\n",
      "sg=0, window=2\n",
      "similarity=0.03130682949072654\n",
      "\n",
      "sg=0, window=3\n",
      "similarity=0.03130682949072654\n",
      "\n",
      "sg=0, window=4\n",
      "similarity=0.03130682949072654\n",
      "\n",
      "sg=0, window=5\n",
      "similarity=0.03130682949072654\n",
      "\n",
      "sg=1, window=0\n",
      "similarity=0.03130682949072654\n",
      "\n",
      "sg=1, window=1\n",
      "similarity=0.03130682949072654\n",
      "\n",
      "sg=1, window=2\n",
      "similarity=0.03130682949072654\n",
      "\n",
      "sg=1, window=3\n",
      "similarity=0.03130682949072654\n",
      "\n",
      "sg=1, window=4\n",
      "similarity=0.03130682949072654\n",
      "\n",
      "sg=1, window=5\n",
      "similarity=0.03130682949072654\n",
      "\n"
     ]
    }
   ],
   "source": [
    "for sg in [0, 1]:\n",
    "    for window in range(0, 6):\n",
    "        model = word2vec.Word2Vec(sentences, size=256, min_count=1, window=5, workers=4, sg=0)\n",
    "        similarity = model.wv.similarity('I am a hero','She is a teacher')\n",
    "        print('sg={}, window={}\\nsimilarity={}\\n'.format(sg, window, similarity))"
   ]
  },
  {
   "cell_type": "code",
   "execution_count": null,
   "metadata": {},
   "outputs": [],
   "source": []
  }
 ],
 "metadata": {
  "kernelspec": {
   "display_name": "Python 3",
   "language": "python",
   "name": "python3"
  },
  "language_info": {
   "codemirror_mode": {
    "name": "ipython",
    "version": 3
   },
   "file_extension": ".py",
   "mimetype": "text/x-python",
   "name": "python",
   "nbconvert_exporter": "python",
   "pygments_lexer": "ipython3",
   "version": "3.6.8"
  }
 },
 "nbformat": 4,
 "nbformat_minor": 2
}
