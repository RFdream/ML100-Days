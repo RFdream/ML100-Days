{
  "nbformat": 4,
  "nbformat_minor": 0,
  "metadata": {
    "colab": {
      "name": "Day078_HW.ipynb",
      "version": "0.3.2",
      "provenance": [],
      "collapsed_sections": [],
      "include_colab_link": true
    },
    "language_info": {
      "codemirror_mode": {
        "name": "ipython",
        "version": 3
      },
      "file_extension": ".py",
      "mimetype": "text/x-python",
      "name": "python",
      "nbconvert_exporter": "python",
      "pygments_lexer": "ipython3",
      "version": "3.6.5"
    },
    "kernelspec": {
      "name": "python3",
      "display_name": "Python 3"
    },
    "accelerator": "GPU"
  },
  "cells": [
    {
      "cell_type": "markdown",
      "metadata": {
        "id": "view-in-github",
        "colab_type": "text"
      },
      "source": [
        "<a href=\"https://colab.research.google.com/github/RFdream/ML100-Days/blob/master/Data/Day078_HW.ipynb\" target=\"_parent\"><img src=\"https://colab.research.google.com/assets/colab-badge.svg\" alt=\"Open In Colab\"/></a>"
      ]
    },
    {
      "metadata": {
        "id": "sdNSwbBePryy",
        "colab_type": "text"
      },
      "cell_type": "markdown",
      "source": [
        "## Work\n",
        "1. 請嘗試將 preproc_x 替換成以每筆資料的 min/max 進行標準化至 -1 ~ 1 間，再進行訓練\n",
        "2. 請嘗試將 mlp 疊更深 (e.g 5~10 層)，進行訓練後觀察 learning curve 的走勢\n",
        "3. (optional) 請改用 GPU 進行訓練 (如果你有 GPU 的話)，比較使用 CPU 與 GPU 的訓練速度"
      ]
    },
    {
      "metadata": {
        "id": "ChO8Nv2qPry0",
        "colab_type": "code",
        "colab": {
          "base_uri": "https://localhost:8080/",
          "height": 306
        },
        "outputId": "ef1c2b43-ca79-4889-ed7c-101364c7c4ef"
      },
      "cell_type": "code",
      "source": [
        "## 確認硬體資源\n",
        "\"\"\"\n",
        "Your code here\n",
        "\"\"\"\n",
        "!nvidia-smi"
      ],
      "execution_count": 1,
      "outputs": [
        {
          "output_type": "stream",
          "text": [
            "Sat Apr 20 10:17:33 2019       \n",
            "+-----------------------------------------------------------------------------+\n",
            "| NVIDIA-SMI 418.56       Driver Version: 410.79       CUDA Version: 10.0     |\n",
            "|-------------------------------+----------------------+----------------------+\n",
            "| GPU  Name        Persistence-M| Bus-Id        Disp.A | Volatile Uncorr. ECC |\n",
            "| Fan  Temp  Perf  Pwr:Usage/Cap|         Memory-Usage | GPU-Util  Compute M. |\n",
            "|===============================+======================+======================|\n",
            "|   0  Tesla T4            Off  | 00000000:00:04.0 Off |                    0 |\n",
            "| N/A   53C    P8    16W /  70W |      0MiB / 15079MiB |      0%      Default |\n",
            "+-------------------------------+----------------------+----------------------+\n",
            "                                                                               \n",
            "+-----------------------------------------------------------------------------+\n",
            "| Processes:                                                       GPU Memory |\n",
            "|  GPU       PID   Type   Process name                             Usage      |\n",
            "|=============================================================================|\n",
            "|  No running processes found                                                 |\n",
            "+-----------------------------------------------------------------------------+\n"
          ],
          "name": "stdout"
        }
      ]
    },
    {
      "metadata": {
        "id": "-FPB_DN7Pry5",
        "colab_type": "code",
        "colab": {
          "base_uri": "https://localhost:8080/",
          "height": 34
        },
        "outputId": "ceec82b1-a2e3-4431-dfe1-329fac763e13"
      },
      "cell_type": "code",
      "source": [
        "import os\n",
        "import keras\n",
        "\n",
        "# Try to enable GPU (optional)\n",
        "os.environ[\"CUDA_VISIBLE_DEVICES\"] = '0'"
      ],
      "execution_count": 2,
      "outputs": [
        {
          "output_type": "stream",
          "text": [
            "Using TensorFlow backend.\n"
          ],
          "name": "stderr"
        }
      ]
    },
    {
      "metadata": {
        "id": "4GwMNklRPry_",
        "colab_type": "code",
        "colab": {
          "base_uri": "https://localhost:8080/",
          "height": 51
        },
        "outputId": "53a7dc1f-a343-4531-c41e-0bdabfcb6725"
      },
      "cell_type": "code",
      "source": [
        "train, test = keras.datasets.cifar10.load_data()"
      ],
      "execution_count": 3,
      "outputs": [
        {
          "output_type": "stream",
          "text": [
            "Downloading data from https://www.cs.toronto.edu/~kriz/cifar-10-python.tar.gz\n",
            "170500096/170498071 [==============================] - 76s 0us/step\n"
          ],
          "name": "stdout"
        }
      ]
    },
    {
      "metadata": {
        "id": "KO0e7Gd_PrzC",
        "colab_type": "code",
        "colab": {}
      },
      "cell_type": "code",
      "source": [
        "from sklearn.preprocessing import MinMaxScaler\n",
        "\n",
        "## 資料前處理\n",
        "def preproc_x(x, flatten=True):\n",
        "    if flatten:\n",
        "        x = x.reshape((len(x), -1))\n",
        "    \n",
        "    scaler = MinMaxScaler(feature_range=(-1, 1))\n",
        "    x = scaler.fit_transform(x)\n",
        "\n",
        "    return x\n",
        "\n",
        "def preproc_y(y, num_classes=10):\n",
        "    if y.shape[-1] == 1:\n",
        "        y = keras.utils.to_categorical(y, num_classes)\n",
        "    return y"
      ],
      "execution_count": 0,
      "outputs": []
    },
    {
      "metadata": {
        "id": "la2WFu5TPrzH",
        "colab_type": "code",
        "colab": {
          "base_uri": "https://localhost:8080/",
          "height": 105
        },
        "outputId": "83e297d6-c18a-4448-9f7c-7e65a791932f"
      },
      "cell_type": "code",
      "source": [
        "x_train, y_train = train\n",
        "x_test, y_test = test\n",
        "\n",
        "# Preproc the inputs\n",
        "x_train = preproc_x(x_train)\n",
        "x_test = preproc_x(x_test)\n",
        "\n",
        "# Preprc the outputs\n",
        "y_train = preproc_y(y_train)\n",
        "y_test = preproc_y(y_test)"
      ],
      "execution_count": 5,
      "outputs": [
        {
          "output_type": "stream",
          "text": [
            "/usr/local/lib/python3.6/dist-packages/sklearn/utils/validation.py:595: DataConversionWarning: Data with input dtype uint8 was converted to float64 by MinMaxScaler.\n",
            "  warnings.warn(msg, DataConversionWarning)\n",
            "/usr/local/lib/python3.6/dist-packages/sklearn/utils/validation.py:595: DataConversionWarning: Data with input dtype uint8 was converted to float64 by MinMaxScaler.\n",
            "  warnings.warn(msg, DataConversionWarning)\n"
          ],
          "name": "stderr"
        }
      ]
    },
    {
      "metadata": {
        "id": "sjemGJqHPrzL",
        "colab_type": "code",
        "colab": {
          "base_uri": "https://localhost:8080/",
          "height": 547
        },
        "outputId": "c2219567-7d5a-430a-b363-54157a5ef4a8"
      },
      "cell_type": "code",
      "source": [
        "\"\"\"\n",
        "Your code here\n",
        "\"\"\"\n",
        "def build_mlp(input_shape, output_units=10, num_neurons=[512, 256, 128, 128, 128, 64, 64, 64]):\n",
        "    input_layer = keras.layers.Input(input_shape)\n",
        "    \n",
        "    for i, n_units in enumerate(num_neurons):\n",
        "        if i == 0:\n",
        "            x = keras.layers.Dense(units=n_units, activation=\"relu\", name=\"hidden_layer\"+str(i+1))(input_layer)\n",
        "        else:\n",
        "            x = keras.layers.Dense(units=n_units, activation=\"relu\", name=\"hidden_layer\"+str(i+1))(x)\n",
        "    \n",
        "    out = keras.layers.Dense(units=output_units, activation=\"softmax\", name=\"output\")(x)\n",
        "    \n",
        "    model = keras.models.Model(inputs=[input_layer], outputs=[out])\n",
        "    return model\n",
        "  \n",
        "model = build_mlp(input_shape=x_train.shape[1:])\n",
        "model.summary()"
      ],
      "execution_count": 7,
      "outputs": [
        {
          "output_type": "stream",
          "text": [
            "WARNING:tensorflow:From /usr/local/lib/python3.6/dist-packages/tensorflow/python/framework/op_def_library.py:263: colocate_with (from tensorflow.python.framework.ops) is deprecated and will be removed in a future version.\n",
            "Instructions for updating:\n",
            "Colocations handled automatically by placer.\n",
            "_________________________________________________________________\n",
            "Layer (type)                 Output Shape              Param #   \n",
            "=================================================================\n",
            "input_1 (InputLayer)         (None, 3072)              0         \n",
            "_________________________________________________________________\n",
            "hidden_layer1 (Dense)        (None, 512)               1573376   \n",
            "_________________________________________________________________\n",
            "hidden_layer2 (Dense)        (None, 256)               131328    \n",
            "_________________________________________________________________\n",
            "hidden_layer3 (Dense)        (None, 128)               32896     \n",
            "_________________________________________________________________\n",
            "hidden_layer4 (Dense)        (None, 128)               16512     \n",
            "_________________________________________________________________\n",
            "hidden_layer5 (Dense)        (None, 128)               16512     \n",
            "_________________________________________________________________\n",
            "hidden_layer6 (Dense)        (None, 64)                8256      \n",
            "_________________________________________________________________\n",
            "hidden_layer7 (Dense)        (None, 64)                4160      \n",
            "_________________________________________________________________\n",
            "hidden_layer8 (Dense)        (None, 64)                4160      \n",
            "_________________________________________________________________\n",
            "output (Dense)               (None, 10)                650       \n",
            "=================================================================\n",
            "Total params: 1,787,850\n",
            "Trainable params: 1,787,850\n",
            "Non-trainable params: 0\n",
            "_________________________________________________________________\n"
          ],
          "name": "stdout"
        }
      ]
    },
    {
      "metadata": {
        "id": "xWJw_bMiPrzP",
        "colab_type": "code",
        "colab": {}
      },
      "cell_type": "code",
      "source": [
        "## 超參數設定\n",
        "LEARNING_RATE = 0.001\n",
        "EPOCHS = 100\n",
        "BATCH_SIZE = 256"
      ],
      "execution_count": 0,
      "outputs": []
    },
    {
      "metadata": {
        "id": "Ms_xa053PrzS",
        "colab_type": "code",
        "colab": {}
      },
      "cell_type": "code",
      "source": [
        "optimizer = keras.optimizers.Adam(lr=LEARNING_RATE)\n",
        "model.compile(loss=\"categorical_crossentropy\", metrics=[\"accuracy\"], optimizer=optimizer)"
      ],
      "execution_count": 0,
      "outputs": []
    },
    {
      "metadata": {
        "id": "JHA0rc-7PrzW",
        "colab_type": "code",
        "colab": {
          "base_uri": "https://localhost:8080/",
          "height": 3522
        },
        "outputId": "8af44cc6-5008-4bbb-b6dd-d2acf354f385"
      },
      "cell_type": "code",
      "source": [
        "model.fit(x_train, y_train, \n",
        "          epochs=EPOCHS, \n",
        "          batch_size=BATCH_SIZE, \n",
        "          validation_data=(x_test, y_test), \n",
        "          shuffle=True)"
      ],
      "execution_count": 10,
      "outputs": [
        {
          "output_type": "stream",
          "text": [
            "WARNING:tensorflow:From /usr/local/lib/python3.6/dist-packages/tensorflow/python/ops/math_ops.py:3066: to_int32 (from tensorflow.python.ops.math_ops) is deprecated and will be removed in a future version.\n",
            "Instructions for updating:\n",
            "Use tf.cast instead.\n",
            "Train on 50000 samples, validate on 10000 samples\n",
            "Epoch 1/100\n",
            "50000/50000 [==============================] - 5s 105us/step - loss: 1.7530 - acc: 0.3737 - val_loss: 1.5824 - val_acc: 0.4256\n",
            "Epoch 2/100\n",
            "50000/50000 [==============================] - 2s 41us/step - loss: 1.5111 - acc: 0.4660 - val_loss: 1.4777 - val_acc: 0.4761\n",
            "Epoch 3/100\n",
            "50000/50000 [==============================] - 2s 41us/step - loss: 1.3905 - acc: 0.5104 - val_loss: 1.4185 - val_acc: 0.5000\n",
            "Epoch 4/100\n",
            "50000/50000 [==============================] - 2s 40us/step - loss: 1.2962 - acc: 0.5440 - val_loss: 1.4040 - val_acc: 0.5099\n",
            "Epoch 5/100\n",
            "50000/50000 [==============================] - 2s 40us/step - loss: 1.2118 - acc: 0.5739 - val_loss: 1.3739 - val_acc: 0.5180\n",
            "Epoch 6/100\n",
            "50000/50000 [==============================] - 2s 41us/step - loss: 1.1451 - acc: 0.5950 - val_loss: 1.3374 - val_acc: 0.5307\n",
            "Epoch 7/100\n",
            "50000/50000 [==============================] - 2s 39us/step - loss: 1.0658 - acc: 0.6240 - val_loss: 1.4165 - val_acc: 0.5211\n",
            "Epoch 8/100\n",
            "50000/50000 [==============================] - 2s 37us/step - loss: 1.0040 - acc: 0.6428 - val_loss: 1.3746 - val_acc: 0.5364\n",
            "Epoch 9/100\n",
            "50000/50000 [==============================] - 2s 38us/step - loss: 0.9449 - acc: 0.6649 - val_loss: 1.4080 - val_acc: 0.5286\n",
            "Epoch 10/100\n",
            "50000/50000 [==============================] - 2s 37us/step - loss: 0.8797 - acc: 0.6909 - val_loss: 1.4206 - val_acc: 0.5366\n",
            "Epoch 11/100\n",
            "50000/50000 [==============================] - 2s 38us/step - loss: 0.8212 - acc: 0.7088 - val_loss: 1.4471 - val_acc: 0.5303\n",
            "Epoch 12/100\n",
            "50000/50000 [==============================] - 2s 37us/step - loss: 0.7665 - acc: 0.7279 - val_loss: 1.5080 - val_acc: 0.5324\n",
            "Epoch 13/100\n",
            "50000/50000 [==============================] - 2s 37us/step - loss: 0.7033 - acc: 0.7515 - val_loss: 1.5913 - val_acc: 0.5314\n",
            "Epoch 14/100\n",
            "50000/50000 [==============================] - 2s 37us/step - loss: 0.6628 - acc: 0.7653 - val_loss: 1.5934 - val_acc: 0.5263\n",
            "Epoch 15/100\n",
            "50000/50000 [==============================] - 2s 37us/step - loss: 0.6197 - acc: 0.7813 - val_loss: 1.6202 - val_acc: 0.5352\n",
            "Epoch 16/100\n",
            "50000/50000 [==============================] - 2s 37us/step - loss: 0.5797 - acc: 0.7964 - val_loss: 1.6980 - val_acc: 0.5279\n",
            "Epoch 17/100\n",
            "50000/50000 [==============================] - 2s 38us/step - loss: 0.5267 - acc: 0.8141 - val_loss: 1.7746 - val_acc: 0.5415\n",
            "Epoch 18/100\n",
            "50000/50000 [==============================] - 2s 38us/step - loss: 0.4840 - acc: 0.8289 - val_loss: 1.7839 - val_acc: 0.5388\n",
            "Epoch 19/100\n",
            "50000/50000 [==============================] - 2s 37us/step - loss: 0.4580 - acc: 0.8387 - val_loss: 1.9840 - val_acc: 0.5400\n",
            "Epoch 20/100\n",
            "50000/50000 [==============================] - 2s 37us/step - loss: 0.4325 - acc: 0.8466 - val_loss: 1.9397 - val_acc: 0.5268\n",
            "Epoch 21/100\n",
            "50000/50000 [==============================] - 2s 37us/step - loss: 0.3997 - acc: 0.8604 - val_loss: 2.1191 - val_acc: 0.5316\n",
            "Epoch 22/100\n",
            "50000/50000 [==============================] - 2s 37us/step - loss: 0.3697 - acc: 0.8717 - val_loss: 2.1227 - val_acc: 0.5272\n",
            "Epoch 23/100\n",
            "50000/50000 [==============================] - 2s 37us/step - loss: 0.3708 - acc: 0.8702 - val_loss: 2.1588 - val_acc: 0.5295\n",
            "Epoch 24/100\n",
            "50000/50000 [==============================] - 2s 37us/step - loss: 0.3301 - acc: 0.8866 - val_loss: 2.2366 - val_acc: 0.5352\n",
            "Epoch 25/100\n",
            "50000/50000 [==============================] - 2s 37us/step - loss: 0.3177 - acc: 0.8907 - val_loss: 2.2843 - val_acc: 0.5330\n",
            "Epoch 26/100\n",
            "50000/50000 [==============================] - 2s 37us/step - loss: 0.3041 - acc: 0.8938 - val_loss: 2.2733 - val_acc: 0.5301\n",
            "Epoch 27/100\n",
            "50000/50000 [==============================] - 2s 37us/step - loss: 0.2900 - acc: 0.8994 - val_loss: 2.4404 - val_acc: 0.5297\n",
            "Epoch 28/100\n",
            "50000/50000 [==============================] - 2s 36us/step - loss: 0.2553 - acc: 0.9104 - val_loss: 2.4583 - val_acc: 0.5306\n",
            "Epoch 29/100\n",
            "50000/50000 [==============================] - 2s 37us/step - loss: 0.2597 - acc: 0.9100 - val_loss: 2.5504 - val_acc: 0.5210\n",
            "Epoch 30/100\n",
            "50000/50000 [==============================] - 2s 36us/step - loss: 0.2428 - acc: 0.9170 - val_loss: 2.5615 - val_acc: 0.5344\n",
            "Epoch 31/100\n",
            "50000/50000 [==============================] - 2s 37us/step - loss: 0.2286 - acc: 0.9224 - val_loss: 2.5687 - val_acc: 0.5330\n",
            "Epoch 32/100\n",
            "50000/50000 [==============================] - 2s 37us/step - loss: 0.2262 - acc: 0.9224 - val_loss: 2.5649 - val_acc: 0.5296\n",
            "Epoch 33/100\n",
            "50000/50000 [==============================] - 2s 37us/step - loss: 0.2179 - acc: 0.9256 - val_loss: 2.6784 - val_acc: 0.5187\n",
            "Epoch 34/100\n",
            "50000/50000 [==============================] - 2s 37us/step - loss: 0.2148 - acc: 0.9271 - val_loss: 2.5793 - val_acc: 0.5324\n",
            "Epoch 35/100\n",
            "50000/50000 [==============================] - 2s 38us/step - loss: 0.2003 - acc: 0.9312 - val_loss: 2.5950 - val_acc: 0.5169\n",
            "Epoch 36/100\n",
            "50000/50000 [==============================] - 2s 37us/step - loss: 0.1964 - acc: 0.9332 - val_loss: 2.6582 - val_acc: 0.5319\n",
            "Epoch 37/100\n",
            "50000/50000 [==============================] - 2s 37us/step - loss: 0.1925 - acc: 0.9351 - val_loss: 2.7247 - val_acc: 0.5323\n",
            "Epoch 38/100\n",
            "50000/50000 [==============================] - 2s 37us/step - loss: 0.1806 - acc: 0.9382 - val_loss: 2.6898 - val_acc: 0.5194\n",
            "Epoch 39/100\n",
            "50000/50000 [==============================] - 2s 38us/step - loss: 0.1740 - acc: 0.9410 - val_loss: 2.7704 - val_acc: 0.5308\n",
            "Epoch 40/100\n",
            "50000/50000 [==============================] - 2s 37us/step - loss: 0.1734 - acc: 0.9422 - val_loss: 2.8589 - val_acc: 0.5277\n",
            "Epoch 41/100\n",
            "50000/50000 [==============================] - 2s 37us/step - loss: 0.1662 - acc: 0.9437 - val_loss: 2.8709 - val_acc: 0.5296\n",
            "Epoch 42/100\n",
            "50000/50000 [==============================] - 2s 37us/step - loss: 0.1628 - acc: 0.9460 - val_loss: 2.8770 - val_acc: 0.5318\n",
            "Epoch 43/100\n",
            "50000/50000 [==============================] - 2s 37us/step - loss: 0.1510 - acc: 0.9503 - val_loss: 2.8990 - val_acc: 0.5361\n",
            "Epoch 44/100\n",
            "50000/50000 [==============================] - 2s 37us/step - loss: 0.1637 - acc: 0.9449 - val_loss: 2.7627 - val_acc: 0.5236\n",
            "Epoch 45/100\n",
            "50000/50000 [==============================] - 2s 40us/step - loss: 0.1450 - acc: 0.9507 - val_loss: 2.9411 - val_acc: 0.5268\n",
            "Epoch 46/100\n",
            "50000/50000 [==============================] - 2s 40us/step - loss: 0.1459 - acc: 0.9513 - val_loss: 3.0054 - val_acc: 0.5299\n",
            "Epoch 47/100\n",
            "50000/50000 [==============================] - 2s 41us/step - loss: 0.1360 - acc: 0.9542 - val_loss: 3.0410 - val_acc: 0.5296\n",
            "Epoch 48/100\n",
            "50000/50000 [==============================] - 2s 41us/step - loss: 0.1458 - acc: 0.9517 - val_loss: 2.9104 - val_acc: 0.5265\n",
            "Epoch 49/100\n",
            "50000/50000 [==============================] - 2s 41us/step - loss: 0.1433 - acc: 0.9518 - val_loss: 2.7957 - val_acc: 0.5259\n",
            "Epoch 50/100\n",
            "50000/50000 [==============================] - 2s 38us/step - loss: 0.1324 - acc: 0.9552 - val_loss: 3.0297 - val_acc: 0.5301\n",
            "Epoch 51/100\n",
            "50000/50000 [==============================] - 2s 37us/step - loss: 0.1230 - acc: 0.9588 - val_loss: 2.9226 - val_acc: 0.5334\n",
            "Epoch 52/100\n",
            "50000/50000 [==============================] - 2s 37us/step - loss: 0.1261 - acc: 0.9583 - val_loss: 3.0064 - val_acc: 0.5361\n",
            "Epoch 53/100\n",
            "50000/50000 [==============================] - 2s 37us/step - loss: 0.1251 - acc: 0.9580 - val_loss: 3.1452 - val_acc: 0.5313\n",
            "Epoch 54/100\n",
            "50000/50000 [==============================] - 2s 36us/step - loss: 0.1210 - acc: 0.9597 - val_loss: 3.1369 - val_acc: 0.5250\n",
            "Epoch 55/100\n",
            "50000/50000 [==============================] - 2s 36us/step - loss: 0.1207 - acc: 0.9603 - val_loss: 3.1799 - val_acc: 0.5350\n",
            "Epoch 56/100\n",
            "50000/50000 [==============================] - 2s 36us/step - loss: 0.1237 - acc: 0.9596 - val_loss: 3.1238 - val_acc: 0.5280\n",
            "Epoch 57/100\n",
            "50000/50000 [==============================] - 2s 37us/step - loss: 0.1153 - acc: 0.9617 - val_loss: 3.0113 - val_acc: 0.5230\n",
            "Epoch 58/100\n",
            "50000/50000 [==============================] - 2s 37us/step - loss: 0.1197 - acc: 0.9601 - val_loss: 3.0633 - val_acc: 0.5345\n",
            "Epoch 59/100\n",
            "50000/50000 [==============================] - 2s 37us/step - loss: 0.0947 - acc: 0.9687 - val_loss: 3.0908 - val_acc: 0.5272\n",
            "Epoch 60/100\n",
            "50000/50000 [==============================] - 2s 37us/step - loss: 0.1199 - acc: 0.9601 - val_loss: 3.2087 - val_acc: 0.5255\n",
            "Epoch 61/100\n",
            "50000/50000 [==============================] - 2s 37us/step - loss: 0.1076 - acc: 0.9647 - val_loss: 3.0859 - val_acc: 0.5251\n",
            "Epoch 62/100\n",
            "50000/50000 [==============================] - 2s 37us/step - loss: 0.1068 - acc: 0.9652 - val_loss: 3.2832 - val_acc: 0.5360\n",
            "Epoch 63/100\n",
            "50000/50000 [==============================] - 2s 37us/step - loss: 0.1027 - acc: 0.9661 - val_loss: 3.1712 - val_acc: 0.5267\n",
            "Epoch 64/100\n",
            "50000/50000 [==============================] - 2s 37us/step - loss: 0.1065 - acc: 0.9645 - val_loss: 3.1169 - val_acc: 0.5319\n",
            "Epoch 65/100\n",
            "50000/50000 [==============================] - 2s 37us/step - loss: 0.0997 - acc: 0.9677 - val_loss: 3.0734 - val_acc: 0.5297\n",
            "Epoch 66/100\n",
            "50000/50000 [==============================] - 2s 37us/step - loss: 0.0965 - acc: 0.9684 - val_loss: 3.1744 - val_acc: 0.5247\n",
            "Epoch 67/100\n",
            "50000/50000 [==============================] - 2s 38us/step - loss: 0.0988 - acc: 0.9674 - val_loss: 3.1969 - val_acc: 0.5244\n",
            "Epoch 68/100\n",
            "50000/50000 [==============================] - 2s 37us/step - loss: 0.1060 - acc: 0.9645 - val_loss: 3.0245 - val_acc: 0.5338\n",
            "Epoch 69/100\n",
            "50000/50000 [==============================] - 2s 37us/step - loss: 0.0947 - acc: 0.9699 - val_loss: 3.1343 - val_acc: 0.5314\n",
            "Epoch 70/100\n",
            "50000/50000 [==============================] - 2s 37us/step - loss: 0.1035 - acc: 0.9661 - val_loss: 3.2069 - val_acc: 0.5276\n",
            "Epoch 71/100\n",
            "50000/50000 [==============================] - 2s 37us/step - loss: 0.0870 - acc: 0.9716 - val_loss: 3.5337 - val_acc: 0.5296\n",
            "Epoch 72/100\n",
            "50000/50000 [==============================] - 2s 38us/step - loss: 0.1121 - acc: 0.9637 - val_loss: 3.0489 - val_acc: 0.5308\n",
            "Epoch 73/100\n",
            "50000/50000 [==============================] - 2s 37us/step - loss: 0.0786 - acc: 0.9737 - val_loss: 3.4249 - val_acc: 0.5315\n",
            "Epoch 74/100\n",
            "50000/50000 [==============================] - 2s 37us/step - loss: 0.0892 - acc: 0.9711 - val_loss: 3.2639 - val_acc: 0.5372\n",
            "Epoch 75/100\n",
            "50000/50000 [==============================] - 2s 37us/step - loss: 0.0858 - acc: 0.9713 - val_loss: 3.2206 - val_acc: 0.5366\n",
            "Epoch 76/100\n",
            "50000/50000 [==============================] - 2s 37us/step - loss: 0.0837 - acc: 0.9727 - val_loss: 3.3295 - val_acc: 0.5262\n",
            "Epoch 77/100\n",
            "50000/50000 [==============================] - 2s 37us/step - loss: 0.0845 - acc: 0.9722 - val_loss: 3.5127 - val_acc: 0.5263\n",
            "Epoch 78/100\n",
            "50000/50000 [==============================] - 2s 37us/step - loss: 0.0823 - acc: 0.9730 - val_loss: 3.3078 - val_acc: 0.5310\n",
            "Epoch 79/100\n",
            "50000/50000 [==============================] - 2s 36us/step - loss: 0.0843 - acc: 0.9731 - val_loss: 3.4965 - val_acc: 0.5345\n",
            "Epoch 80/100\n",
            "50000/50000 [==============================] - 2s 37us/step - loss: 0.0842 - acc: 0.9724 - val_loss: 3.1135 - val_acc: 0.5339\n",
            "Epoch 81/100\n",
            "50000/50000 [==============================] - 2s 38us/step - loss: 0.0776 - acc: 0.9743 - val_loss: 3.3406 - val_acc: 0.5196\n",
            "Epoch 82/100\n",
            "50000/50000 [==============================] - 2s 41us/step - loss: 0.0866 - acc: 0.9718 - val_loss: 3.2550 - val_acc: 0.5308\n",
            "Epoch 83/100\n",
            "50000/50000 [==============================] - 2s 42us/step - loss: 0.0966 - acc: 0.9687 - val_loss: 3.3420 - val_acc: 0.5341\n",
            "Epoch 84/100\n",
            "50000/50000 [==============================] - 2s 39us/step - loss: 0.0763 - acc: 0.9754 - val_loss: 3.1131 - val_acc: 0.5343\n",
            "Epoch 85/100\n",
            "50000/50000 [==============================] - 2s 37us/step - loss: 0.0735 - acc: 0.9761 - val_loss: 3.4274 - val_acc: 0.5287\n",
            "Epoch 86/100\n",
            "50000/50000 [==============================] - 2s 37us/step - loss: 0.0740 - acc: 0.9762 - val_loss: 3.2713 - val_acc: 0.5247\n",
            "Epoch 87/100\n",
            "50000/50000 [==============================] - 2s 38us/step - loss: 0.0774 - acc: 0.9750 - val_loss: 3.3758 - val_acc: 0.5242\n",
            "Epoch 88/100\n",
            "50000/50000 [==============================] - 2s 40us/step - loss: 0.0771 - acc: 0.9748 - val_loss: 3.2779 - val_acc: 0.5241\n",
            "Epoch 89/100\n",
            "50000/50000 [==============================] - 2s 41us/step - loss: 0.0834 - acc: 0.9730 - val_loss: 3.2047 - val_acc: 0.5330\n",
            "Epoch 90/100\n",
            "50000/50000 [==============================] - 2s 41us/step - loss: 0.0694 - acc: 0.9778 - val_loss: 3.5301 - val_acc: 0.5319\n",
            "Epoch 91/100\n",
            "50000/50000 [==============================] - 2s 41us/step - loss: 0.0812 - acc: 0.9740 - val_loss: 3.3864 - val_acc: 0.5273\n",
            "Epoch 92/100\n",
            "50000/50000 [==============================] - 2s 40us/step - loss: 0.0720 - acc: 0.9761 - val_loss: 3.3212 - val_acc: 0.5284\n",
            "Epoch 93/100\n",
            "50000/50000 [==============================] - 2s 38us/step - loss: 0.0659 - acc: 0.9794 - val_loss: 3.5863 - val_acc: 0.5273\n",
            "Epoch 94/100\n",
            "50000/50000 [==============================] - 2s 38us/step - loss: 0.0632 - acc: 0.9794 - val_loss: 3.4804 - val_acc: 0.5273\n",
            "Epoch 95/100\n",
            "50000/50000 [==============================] - 2s 38us/step - loss: 0.0751 - acc: 0.9748 - val_loss: 3.5717 - val_acc: 0.5305\n",
            "Epoch 96/100\n",
            "50000/50000 [==============================] - 2s 38us/step - loss: 0.0727 - acc: 0.9773 - val_loss: 3.2785 - val_acc: 0.5340\n",
            "Epoch 97/100\n",
            "50000/50000 [==============================] - 2s 38us/step - loss: 0.0691 - acc: 0.9775 - val_loss: 3.2266 - val_acc: 0.5346\n",
            "Epoch 98/100\n",
            "50000/50000 [==============================] - 2s 37us/step - loss: 0.0615 - acc: 0.9800 - val_loss: 3.4176 - val_acc: 0.5326\n",
            "Epoch 99/100\n",
            "50000/50000 [==============================] - 2s 38us/step - loss: 0.0752 - acc: 0.9755 - val_loss: 3.4263 - val_acc: 0.5399\n",
            "Epoch 100/100\n",
            "50000/50000 [==============================] - 2s 38us/step - loss: 0.0630 - acc: 0.9794 - val_loss: 3.5265 - val_acc: 0.5323\n"
          ],
          "name": "stdout"
        },
        {
          "output_type": "execute_result",
          "data": {
            "text/plain": [
              "<keras.callbacks.History at 0x7f0dccfaccf8>"
            ]
          },
          "metadata": {
            "tags": []
          },
          "execution_count": 10
        }
      ]
    },
    {
      "metadata": {
        "id": "l2V4yGMsPrzd",
        "colab_type": "code",
        "colab": {
          "base_uri": "https://localhost:8080/",
          "height": 545
        },
        "outputId": "54e8f264-57cb-4c4e-fc91-578835d9d9d5"
      },
      "cell_type": "code",
      "source": [
        "import matplotlib.pyplot as plt\n",
        "\n",
        "\n",
        "train_loss = model.history.history[\"loss\"]\n",
        "valid_loss = model.history.history[\"val_loss\"]\n",
        "\n",
        "train_acc = model.history.history[\"acc\"]\n",
        "valid_acc = model.history.history[\"val_acc\"]\n",
        "\n",
        "plt.plot(range(len(train_loss)), train_loss, label=\"train loss\")\n",
        "plt.plot(range(len(valid_loss)), valid_loss, label=\"valid loss\")\n",
        "plt.legend()\n",
        "plt.title(\"Loss\")\n",
        "plt.show()\n",
        "\n",
        "plt.plot(range(len(train_acc)), train_acc, label=\"train accuracy\")\n",
        "plt.plot(range(len(valid_acc)), valid_acc, label=\"valid accuracy\")\n",
        "plt.legend()\n",
        "plt.title(\"Accuracy\")\n",
        "plt.show()"
      ],
      "execution_count": 11,
      "outputs": [
        {
          "output_type": "display_data",
          "data": {
            "image/png": "[encoded data removed]",
            "text/plain": [
              "<Figure size 432x288 with 1 Axes>"
            ]
          },
          "metadata": {
            "tags": []
          }
        },
        {
          "output_type": "display_data",
          "data": {
            "image/png": "[encoded data removed]",
            "text/plain": [
              "<Figure size 432x288 with 1 Axes>"
            ]
          },
          "metadata": {
            "tags": []
          }
        }
      ]
    },
    {
      "metadata": {
        "id": "XLhIdtO6R5i3",
        "colab_type": "code",
        "colab": {}
      },
      "cell_type": "code",
      "source": [
        ""
      ],
      "execution_count": 0,
      "outputs": []
    }
  ]
}