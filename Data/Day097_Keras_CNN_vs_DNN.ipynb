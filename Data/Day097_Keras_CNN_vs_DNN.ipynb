{
  "nbformat": 4,
  "nbformat_minor": 0,
  "metadata": {
    "colab": {
      "name": "Day097_Keras_CNN_vs_DNN.ipynb",
      "version": "0.3.2",
      "provenance": [],
      "collapsed_sections": [],
      "include_colab_link": true
    },
    "language_info": {
      "codemirror_mode": {
        "name": "ipython",
        "version": 3
      },
      "file_extension": ".py",
      "mimetype": "text/x-python",
      "name": "python",
      "nbconvert_exporter": "python",
      "pygments_lexer": "ipython3",
      "version": "3.6.2"
    },
    "kernelspec": {
      "name": "python3",
      "display_name": "Python 3"
    },
    "accelerator": "GPU"
  },
  "cells": [
    {
      "cell_type": "markdown",
      "metadata": {
        "id": "view-in-github",
        "colab_type": "text"
      },
      "source": [
        "<a href=\"https://colab.research.google.com/github/RFdream/ML100-Days/blob/master/Data/Day097_Keras_CNN_vs_DNN.ipynb\" target=\"_parent\"><img src=\"https://colab.research.google.com/assets/colab-badge.svg\" alt=\"Open In Colab\"/></a>"
      ]
    },
    {
      "metadata": {
        "id": "qyd6y6cG2lMr",
        "colab_type": "code",
        "colab": {
          "base_uri": "https://localhost:8080/",
          "height": 34
        },
        "outputId": "89995e6f-6870-4218-e596-1336b3e2ed6f"
      },
      "cell_type": "code",
      "source": [
        "import keras\n",
        "from keras.datasets import cifar10\n",
        "from keras.preprocessing.image import ImageDataGenerator\n",
        "from keras.models import Sequential\n",
        "from keras.layers import Dense, Dropout, Activation, Flatten\n",
        "from keras.layers import Conv2D, MaxPooling2D\n",
        "from keras.optimizers import RMSprop, Adam\n",
        "import os"
      ],
      "execution_count": 1,
      "outputs": [
        {
          "output_type": "stream",
          "text": [
            "Using TensorFlow backend.\n"
          ],
          "name": "stderr"
        }
      ]
    },
    {
      "metadata": {
        "id": "NJGTn7_h2lMz",
        "colab_type": "code",
        "colab": {
          "base_uri": "https://localhost:8080/",
          "height": 102
        },
        "outputId": "8a22349a-5cd4-439e-f100-84ba8053811d"
      },
      "cell_type": "code",
      "source": [
        "batch_size = 128 # batch 的大小，如果出現 OOM error，請降低這個值\n",
        "num_classes = 10 # 類別的數量，Cifar 10 共有 10 個類別\n",
        "epochs = 10 # 訓練的 epochs 數量\n",
        "\n",
        "# 讀取資料並檢視\n",
        "(x_train, y_train), (x_test, y_test) = cifar10.load_data()\n",
        "print('x_train shape:', x_train.shape)\n",
        "print(x_train.shape[0], 'train samples')\n",
        "print(x_test.shape[0], 'test samples')\n",
        "\n",
        "# 對 label 進行 one-hot encoding (y_trian 原本是純數字)\n",
        "y_train = keras.utils.to_categorical(y_train, num_classes)\n",
        "y_test = keras.utils.to_categorical(y_test, num_classes)"
      ],
      "execution_count": 2,
      "outputs": [
        {
          "output_type": "stream",
          "text": [
            "Downloading data from https://www.cs.toronto.edu/~kriz/cifar-10-python.tar.gz\n",
            "170500096/170498071 [==============================] - 41s 0us/step\n",
            "x_train shape: (50000, 32, 32, 3)\n",
            "50000 train samples\n",
            "10000 test samples\n"
          ],
          "name": "stdout"
        }
      ]
    },
    {
      "metadata": {
        "id": "cW5nYh2p2lM3",
        "colab_type": "text"
      },
      "cell_type": "markdown",
      "source": [
        "## 首先我們使用一般的 DNN (MLP) 來訓練\n",
        "由於 DNN 只能輸入一維的資料，我們要先將影像進行攤平，若 (50000, 32, 32, 3) 的影像，攤平後會變成 (50000, 32*32*3) = (50000, 3072)"
      ]
    },
    {
      "metadata": {
        "id": "3Y2hoII_2lM4",
        "colab_type": "code",
        "colab": {
          "base_uri": "https://localhost:8080/",
          "height": 51
        },
        "outputId": "cc5d3d64-c083-4c8b-c436-da8e25a20fc7"
      },
      "cell_type": "code",
      "source": [
        "# 將資料攤平成一維資料\n",
        "x_train = x_train.reshape(50000, 3072) \n",
        "x_test = x_test.reshape(10000, 3072)\n",
        "\n",
        "# 將資料變為 float32 並標準化\n",
        "x_train = x_train.astype('float32')\n",
        "x_test = x_test.astype('float32')\n",
        "x_train /= 255\n",
        "x_test /= 255\n",
        "print(x_train.shape[0], 'train samples')\n",
        "print(x_test.shape[0], 'test samples')"
      ],
      "execution_count": 3,
      "outputs": [
        {
          "output_type": "stream",
          "text": [
            "50000 train samples\n",
            "10000 test samples\n"
          ],
          "name": "stdout"
        }
      ]
    },
    {
      "metadata": {
        "id": "Y7XGUykO2lM8",
        "colab_type": "code",
        "colab": {
          "base_uri": "https://localhost:8080/",
          "height": 870
        },
        "outputId": "02e6a98e-575c-4c96-e052-73443154425c"
      },
      "cell_type": "code",
      "source": [
        "model = Sequential()\n",
        "model.add(Dense(512, activation='relu', input_shape=(3072,)))\n",
        "model.add(Dropout(0.2))\n",
        "model.add(Dense(512, activation='relu'))\n",
        "model.add(Dropout(0.2))\n",
        "model.add(Dense(num_classes, activation='softmax'))\n",
        "\n",
        "model.summary()\n",
        "\n",
        "model.compile(loss='categorical_crossentropy',\n",
        "              optimizer=RMSprop(),\n",
        "              metrics=['accuracy'])\n",
        "\n",
        "history = model.fit(x_train, y_train,\n",
        "                    batch_size=batch_size,\n",
        "                    epochs=epochs,\n",
        "                    verbose=1,\n",
        "                    validation_data=(x_test, y_test))\n",
        "score = model.evaluate(x_test, y_test, verbose=0)\n",
        "print('Test loss:', score[0])\n",
        "print('Test accuracy:', score[1])"
      ],
      "execution_count": 4,
      "outputs": [
        {
          "output_type": "stream",
          "text": [
            "WARNING:tensorflow:From /usr/local/lib/python3.6/dist-packages/tensorflow/python/framework/op_def_library.py:263: colocate_with (from tensorflow.python.framework.ops) is deprecated and will be removed in a future version.\n",
            "Instructions for updating:\n",
            "Colocations handled automatically by placer.\n",
            "WARNING:tensorflow:From /usr/local/lib/python3.6/dist-packages/keras/backend/tensorflow_backend.py:3445: calling dropout (from tensorflow.python.ops.nn_ops) with keep_prob is deprecated and will be removed in a future version.\n",
            "Instructions for updating:\n",
            "Please use `rate` instead of `keep_prob`. Rate should be set to `rate = 1 - keep_prob`.\n",
            "_________________________________________________________________\n",
            "Layer (type)                 Output Shape              Param #   \n",
            "=================================================================\n",
            "dense_1 (Dense)              (None, 512)               1573376   \n",
            "_________________________________________________________________\n",
            "dropout_1 (Dropout)          (None, 512)               0         \n",
            "_________________________________________________________________\n",
            "dense_2 (Dense)              (None, 512)               262656    \n",
            "_________________________________________________________________\n",
            "dropout_2 (Dropout)          (None, 512)               0         \n",
            "_________________________________________________________________\n",
            "dense_3 (Dense)              (None, 10)                5130      \n",
            "=================================================================\n",
            "Total params: 1,841,162\n",
            "Trainable params: 1,841,162\n",
            "Non-trainable params: 0\n",
            "_________________________________________________________________\n",
            "WARNING:tensorflow:From /usr/local/lib/python3.6/dist-packages/tensorflow/python/ops/math_ops.py:3066: to_int32 (from tensorflow.python.ops.math_ops) is deprecated and will be removed in a future version.\n",
            "Instructions for updating:\n",
            "Use tf.cast instead.\n",
            "Train on 50000 samples, validate on 10000 samples\n",
            "Epoch 1/10\n",
            "50000/50000 [==============================] - 5s 93us/step - loss: 2.2346 - acc: 0.2504 - val_loss: 1.8294 - val_acc: 0.3395\n",
            "Epoch 2/10\n",
            "50000/50000 [==============================] - 2s 38us/step - loss: 1.8659 - acc: 0.3266 - val_loss: 1.8174 - val_acc: 0.3567\n",
            "Epoch 3/10\n",
            "50000/50000 [==============================] - 2s 37us/step - loss: 1.7860 - acc: 0.3594 - val_loss: 1.6960 - val_acc: 0.3930\n",
            "Epoch 4/10\n",
            "50000/50000 [==============================] - 2s 36us/step - loss: 1.7390 - acc: 0.3749 - val_loss: 1.6563 - val_acc: 0.4070\n",
            "Epoch 5/10\n",
            "50000/50000 [==============================] - 2s 36us/step - loss: 1.7025 - acc: 0.3881 - val_loss: 1.6259 - val_acc: 0.4111\n",
            "Epoch 6/10\n",
            "50000/50000 [==============================] - 2s 37us/step - loss: 1.6730 - acc: 0.4010 - val_loss: 1.5987 - val_acc: 0.4405\n",
            "Epoch 7/10\n",
            "50000/50000 [==============================] - 2s 37us/step - loss: 1.6533 - acc: 0.4088 - val_loss: 1.6844 - val_acc: 0.3904\n",
            "Epoch 8/10\n",
            "50000/50000 [==============================] - 2s 36us/step - loss: 1.6387 - acc: 0.4124 - val_loss: 1.5898 - val_acc: 0.4347\n",
            "Epoch 9/10\n",
            "50000/50000 [==============================] - 2s 37us/step - loss: 1.6228 - acc: 0.4193 - val_loss: 1.5847 - val_acc: 0.4220\n",
            "Epoch 10/10\n",
            "50000/50000 [==============================] - 2s 36us/step - loss: 1.6027 - acc: 0.4294 - val_loss: 1.6229 - val_acc: 0.4266\n",
            "Test loss: 1.6228858503341674\n",
            "Test accuracy: 0.4266\n"
          ],
          "name": "stdout"
        }
      ]
    },
    {
      "metadata": {
        "id": "2uZxY-dD2lM_",
        "colab_type": "text"
      },
      "cell_type": "markdown",
      "source": [
        "## 接下來我們使用 CNN 來訓練神經網路\n",
        "CNN 的原理非常適合處理影像類的資料，就讓我們來看看，同樣的訓練條件，CNN 是否顯著優於 DNN 呢?"
      ]
    },
    {
      "metadata": {
        "id": "kWvkzMt-2lNA",
        "colab_type": "code",
        "colab": {
          "base_uri": "https://localhost:8080/",
          "height": 68
        },
        "outputId": "55c99449-34ba-4f6b-be8c-a4c4924db9d4"
      },
      "cell_type": "code",
      "source": [
        "(x_train, y_train), (x_test, y_test) = cifar10.load_data()\n",
        "print('x_train shape:', x_train.shape)\n",
        "print(x_train.shape[0], 'train samples')\n",
        "print(x_test.shape[0], 'test samples')\n",
        "x_train = x_train.astype('float32')\n",
        "x_test = x_test.astype('float32')\n",
        "x_train /= 255\n",
        "x_test /= 255\n",
        "\n",
        "# Convert class vectors to binary class matrices.\n",
        "y_train = keras.utils.to_categorical(y_train, num_classes)\n",
        "y_test = keras.utils.to_categorical(y_test, num_classes)"
      ],
      "execution_count": 5,
      "outputs": [
        {
          "output_type": "stream",
          "text": [
            "x_train shape: (50000, 32, 32, 3)\n",
            "50000 train samples\n",
            "10000 test samples\n"
          ],
          "name": "stdout"
        }
      ]
    },
    {
      "metadata": {
        "id": "iFWwtZVt2lNE",
        "colab_type": "code",
        "colab": {
          "base_uri": "https://localhost:8080/",
          "height": 1139
        },
        "outputId": "5a75f700-b79f-4123-ce65-91a2a643fead"
      },
      "cell_type": "code",
      "source": [
        "model = Sequential()\n",
        "model.add(Conv2D(32, (3, 3), padding='same',\n",
        "                 input_shape=x_train.shape[1:]))\n",
        "model.add(Activation('relu'))\n",
        "model.add(Conv2D(32, (3, 3)))\n",
        "model.add(Activation('relu'))\n",
        "model.add(MaxPooling2D(pool_size=(2, 2)))\n",
        "model.add(Dropout(0.25))\n",
        "\n",
        "model.add(Conv2D(64, (3, 3), padding='same'))\n",
        "model.add(Activation('relu'))\n",
        "model.add(Conv2D(64, (3, 3)))\n",
        "model.add(Activation('relu'))\n",
        "model.add(MaxPooling2D(pool_size=(2, 2)))\n",
        "model.add(Dropout(0.25))\n",
        "\n",
        "model.add(Flatten())\n",
        "model.add(Dense(512))\n",
        "model.add(Activation('relu'))\n",
        "model.add(Dropout(0.5))\n",
        "model.add(Dense(num_classes))\n",
        "model.add(Activation('softmax'))\n",
        "model.summary()\n",
        "\n",
        "model.compile(loss='categorical_crossentropy',\n",
        "              optimizer=RMSprop(),\n",
        "              metrics=['accuracy'])\n",
        "\n",
        "history = model.fit(x_train, y_train,\n",
        "                    batch_size=batch_size,\n",
        "                    epochs=epochs,\n",
        "                    verbose=1,\n",
        "                    validation_data=(x_test, y_test))\n",
        "score = model.evaluate(x_test, y_test, verbose=0)\n",
        "print('Test loss:', score[0])\n",
        "print('Test accuracy:', score[1])"
      ],
      "execution_count": 6,
      "outputs": [
        {
          "output_type": "stream",
          "text": [
            "_________________________________________________________________\n",
            "Layer (type)                 Output Shape              Param #   \n",
            "=================================================================\n",
            "conv2d_1 (Conv2D)            (None, 32, 32, 32)        896       \n",
            "_________________________________________________________________\n",
            "activation_1 (Activation)    (None, 32, 32, 32)        0         \n",
            "_________________________________________________________________\n",
            "conv2d_2 (Conv2D)            (None, 30, 30, 32)        9248      \n",
            "_________________________________________________________________\n",
            "activation_2 (Activation)    (None, 30, 30, 32)        0         \n",
            "_________________________________________________________________\n",
            "max_pooling2d_1 (MaxPooling2 (None, 15, 15, 32)        0         \n",
            "_________________________________________________________________\n",
            "dropout_3 (Dropout)          (None, 15, 15, 32)        0         \n",
            "_________________________________________________________________\n",
            "conv2d_3 (Conv2D)            (None, 15, 15, 64)        18496     \n",
            "_________________________________________________________________\n",
            "activation_3 (Activation)    (None, 15, 15, 64)        0         \n",
            "_________________________________________________________________\n",
            "conv2d_4 (Conv2D)            (None, 13, 13, 64)        36928     \n",
            "_________________________________________________________________\n",
            "activation_4 (Activation)    (None, 13, 13, 64)        0         \n",
            "_________________________________________________________________\n",
            "max_pooling2d_2 (MaxPooling2 (None, 6, 6, 64)          0         \n",
            "_________________________________________________________________\n",
            "dropout_4 (Dropout)          (None, 6, 6, 64)          0         \n",
            "_________________________________________________________________\n",
            "flatten_1 (Flatten)          (None, 2304)              0         \n",
            "_________________________________________________________________\n",
            "dense_4 (Dense)              (None, 512)               1180160   \n",
            "_________________________________________________________________\n",
            "activation_5 (Activation)    (None, 512)               0         \n",
            "_________________________________________________________________\n",
            "dropout_5 (Dropout)          (None, 512)               0         \n",
            "_________________________________________________________________\n",
            "dense_5 (Dense)              (None, 10)                5130      \n",
            "_________________________________________________________________\n",
            "activation_6 (Activation)    (None, 10)                0         \n",
            "=================================================================\n",
            "Total params: 1,250,858\n",
            "Trainable params: 1,250,858\n",
            "Non-trainable params: 0\n",
            "_________________________________________________________________\n",
            "Train on 50000 samples, validate on 10000 samples\n",
            "Epoch 1/10\n",
            "50000/50000 [==============================] - 9s 173us/step - loss: 1.7241 - acc: 0.3788 - val_loss: 1.5000 - val_acc: 0.4701\n",
            "Epoch 2/10\n",
            "50000/50000 [==============================] - 5s 108us/step - loss: 1.2974 - acc: 0.5384 - val_loss: 1.0953 - val_acc: 0.6180\n",
            "Epoch 3/10\n",
            "50000/50000 [==============================] - 5s 108us/step - loss: 1.1005 - acc: 0.6125 - val_loss: 1.1990 - val_acc: 0.5658\n",
            "Epoch 4/10\n",
            "50000/50000 [==============================] - 5s 110us/step - loss: 0.9664 - acc: 0.6625 - val_loss: 0.9326 - val_acc: 0.6740\n",
            "Epoch 5/10\n",
            "50000/50000 [==============================] - 6s 111us/step - loss: 0.8770 - acc: 0.6955 - val_loss: 0.8837 - val_acc: 0.6833\n",
            "Epoch 6/10\n",
            "50000/50000 [==============================] - 6s 115us/step - loss: 0.8028 - acc: 0.7201 - val_loss: 0.7949 - val_acc: 0.7271\n",
            "Epoch 7/10\n",
            "50000/50000 [==============================] - 6s 114us/step - loss: 0.7576 - acc: 0.7355 - val_loss: 0.7508 - val_acc: 0.7408\n",
            "Epoch 8/10\n",
            "50000/50000 [==============================] - 6s 110us/step - loss: 0.7078 - acc: 0.7552 - val_loss: 0.6934 - val_acc: 0.7621\n",
            "Epoch 9/10\n",
            "50000/50000 [==============================] - 6s 110us/step - loss: 0.6796 - acc: 0.7660 - val_loss: 0.7514 - val_acc: 0.7437\n",
            "Epoch 10/10\n",
            "50000/50000 [==============================] - 6s 111us/step - loss: 0.6520 - acc: 0.7747 - val_loss: 0.6689 - val_acc: 0.7722\n",
            "Test loss: 0.6689049885749817\n",
            "Test accuracy: 0.7722\n"
          ],
          "name": "stdout"
        }
      ]
    },
    {
      "metadata": {
        "id": "sCG34Fk32lNI",
        "colab_type": "text"
      },
      "cell_type": "markdown",
      "source": [
        "## 同樣運算 10 個 epochs，但 CNN 在 test data 的準確率顯著優於 DNN!"
      ]
    },
    {
      "metadata": {
        "id": "zjzSr0Cx2lNJ",
        "colab_type": "text"
      },
      "cell_type": "markdown",
      "source": [
        "## 作業\n",
        "1. 請試著調整各個超參數，並說明那些超參數對於結果有明顯的影響?\n",
        "2. CNN 與 DNN 哪個模型的參數數量比較多? 造成參數的數量不同的原因在哪?"
      ]
    },
    {
      "metadata": {
        "id": "awbTyA2O2lNK",
        "colab_type": "code",
        "colab": {}
      },
      "cell_type": "code",
      "source": [
        "def compare(padding='same', pool_size=(2, 2), dense_n_units=512):\n",
        "    model = Sequential()\n",
        "    model.add(Conv2D(32, (3, 3), padding=padding,\n",
        "                     input_shape=x_train.shape[1:]))\n",
        "    model.add(Activation('relu'))\n",
        "    model.add(Conv2D(32, (3, 3)))\n",
        "    model.add(Activation('relu'))\n",
        "    model.add(MaxPooling2D(pool_size=pool_size))\n",
        "    model.add(Dropout(0.25))\n",
        "\n",
        "    model.add(Conv2D(64, (3, 3), padding=padding))\n",
        "    model.add(Activation('relu'))\n",
        "    model.add(Conv2D(64, (3, 3)))\n",
        "    model.add(Activation('relu'))\n",
        "    model.add(MaxPooling2D(pool_size=pool_size))\n",
        "    model.add(Dropout(0.25))\n",
        "\n",
        "    model.add(Flatten())\n",
        "    model.add(Dense(dense_n_units))\n",
        "    model.add(Activation('relu'))\n",
        "    model.add(Dropout(0.5))\n",
        "    model.add(Dense(num_classes))\n",
        "    model.add(Activation('softmax'))\n",
        "    model.summary()\n",
        "\n",
        "    model.compile(loss='categorical_crossentropy',\n",
        "                  optimizer=RMSprop(),\n",
        "                  metrics=['accuracy'])\n",
        "\n",
        "    history = model.fit(x_train, y_train,\n",
        "                        batch_size=batch_size,\n",
        "                        epochs=epochs,\n",
        "                        verbose=1,\n",
        "                        validation_data=(x_test, y_test))\n",
        "    score = model.evaluate(x_test, y_test, verbose=0)\n",
        "    print('Test loss:', score[0])\n",
        "    print('Test accuracy:', score[1])"
      ],
      "execution_count": 0,
      "outputs": []
    },
    {
      "metadata": {
        "id": "-A42NnBT4Juw",
        "colab_type": "code",
        "colab": {
          "base_uri": "https://localhost:8080/",
          "height": 1139
        },
        "outputId": "ddd0b5a0-9f65-4770-cf9a-73d22cbd715e"
      },
      "cell_type": "code",
      "source": [
        "compare(padding='valid')"
      ],
      "execution_count": 8,
      "outputs": [
        {
          "output_type": "stream",
          "text": [
            "_________________________________________________________________\n",
            "Layer (type)                 Output Shape              Param #   \n",
            "=================================================================\n",
            "conv2d_5 (Conv2D)            (None, 30, 30, 32)        896       \n",
            "_________________________________________________________________\n",
            "activation_7 (Activation)    (None, 30, 30, 32)        0         \n",
            "_________________________________________________________________\n",
            "conv2d_6 (Conv2D)            (None, 28, 28, 32)        9248      \n",
            "_________________________________________________________________\n",
            "activation_8 (Activation)    (None, 28, 28, 32)        0         \n",
            "_________________________________________________________________\n",
            "max_pooling2d_3 (MaxPooling2 (None, 14, 14, 32)        0         \n",
            "_________________________________________________________________\n",
            "dropout_6 (Dropout)          (None, 14, 14, 32)        0         \n",
            "_________________________________________________________________\n",
            "conv2d_7 (Conv2D)            (None, 12, 12, 64)        18496     \n",
            "_________________________________________________________________\n",
            "activation_9 (Activation)    (None, 12, 12, 64)        0         \n",
            "_________________________________________________________________\n",
            "conv2d_8 (Conv2D)            (None, 10, 10, 64)        36928     \n",
            "_________________________________________________________________\n",
            "activation_10 (Activation)   (None, 10, 10, 64)        0         \n",
            "_________________________________________________________________\n",
            "max_pooling2d_4 (MaxPooling2 (None, 5, 5, 64)          0         \n",
            "_________________________________________________________________\n",
            "dropout_7 (Dropout)          (None, 5, 5, 64)          0         \n",
            "_________________________________________________________________\n",
            "flatten_2 (Flatten)          (None, 1600)              0         \n",
            "_________________________________________________________________\n",
            "dense_6 (Dense)              (None, 512)               819712    \n",
            "_________________________________________________________________\n",
            "activation_11 (Activation)   (None, 512)               0         \n",
            "_________________________________________________________________\n",
            "dropout_8 (Dropout)          (None, 512)               0         \n",
            "_________________________________________________________________\n",
            "dense_7 (Dense)              (None, 10)                5130      \n",
            "_________________________________________________________________\n",
            "activation_12 (Activation)   (None, 10)                0         \n",
            "=================================================================\n",
            "Total params: 890,410\n",
            "Trainable params: 890,410\n",
            "Non-trainable params: 0\n",
            "_________________________________________________________________\n",
            "Train on 50000 samples, validate on 10000 samples\n",
            "Epoch 1/10\n",
            "50000/50000 [==============================] - 6s 111us/step - loss: 1.7749 - acc: 0.3533 - val_loss: 1.4634 - val_acc: 0.4784\n",
            "Epoch 2/10\n",
            "50000/50000 [==============================] - 5s 96us/step - loss: 1.3557 - acc: 0.5150 - val_loss: 1.1955 - val_acc: 0.5749\n",
            "Epoch 3/10\n",
            "50000/50000 [==============================] - 5s 95us/step - loss: 1.1546 - acc: 0.5927 - val_loss: 1.0148 - val_acc: 0.6458\n",
            "Epoch 4/10\n",
            "50000/50000 [==============================] - 5s 94us/step - loss: 1.0330 - acc: 0.6383 - val_loss: 0.9195 - val_acc: 0.6813\n",
            "Epoch 5/10\n",
            "50000/50000 [==============================] - 5s 94us/step - loss: 0.9390 - acc: 0.6729 - val_loss: 0.8554 - val_acc: 0.7000\n",
            "Epoch 6/10\n",
            "50000/50000 [==============================] - 5s 94us/step - loss: 0.8756 - acc: 0.6954 - val_loss: 0.8094 - val_acc: 0.7176\n",
            "Epoch 7/10\n",
            "50000/50000 [==============================] - 5s 94us/step - loss: 0.8138 - acc: 0.7152 - val_loss: 0.7973 - val_acc: 0.7266\n",
            "Epoch 8/10\n",
            "50000/50000 [==============================] - 5s 94us/step - loss: 0.7690 - acc: 0.7346 - val_loss: 0.7824 - val_acc: 0.7347\n",
            "Epoch 9/10\n",
            "50000/50000 [==============================] - 5s 94us/step - loss: 0.7411 - acc: 0.7422 - val_loss: 0.8245 - val_acc: 0.7337\n",
            "Epoch 10/10\n",
            "50000/50000 [==============================] - 5s 94us/step - loss: 0.7096 - acc: 0.7549 - val_loss: 0.7627 - val_acc: 0.7412\n",
            "Test loss: 0.762664072227478\n",
            "Test accuracy: 0.7412\n"
          ],
          "name": "stdout"
        }
      ]
    },
    {
      "metadata": {
        "id": "ZhBSsFOL4OwC",
        "colab_type": "code",
        "colab": {
          "base_uri": "https://localhost:8080/",
          "height": 1139
        },
        "outputId": "afcfee52-8ca4-4b50-84de-974ce792826a"
      },
      "cell_type": "code",
      "source": [
        "compare(pool_size=(4, 4))"
      ],
      "execution_count": 9,
      "outputs": [
        {
          "output_type": "stream",
          "text": [
            "_________________________________________________________________\n",
            "Layer (type)                 Output Shape              Param #   \n",
            "=================================================================\n",
            "conv2d_9 (Conv2D)            (None, 32, 32, 32)        896       \n",
            "_________________________________________________________________\n",
            "activation_13 (Activation)   (None, 32, 32, 32)        0         \n",
            "_________________________________________________________________\n",
            "conv2d_10 (Conv2D)           (None, 30, 30, 32)        9248      \n",
            "_________________________________________________________________\n",
            "activation_14 (Activation)   (None, 30, 30, 32)        0         \n",
            "_________________________________________________________________\n",
            "max_pooling2d_5 (MaxPooling2 (None, 7, 7, 32)          0         \n",
            "_________________________________________________________________\n",
            "dropout_9 (Dropout)          (None, 7, 7, 32)          0         \n",
            "_________________________________________________________________\n",
            "conv2d_11 (Conv2D)           (None, 7, 7, 64)          18496     \n",
            "_________________________________________________________________\n",
            "activation_15 (Activation)   (None, 7, 7, 64)          0         \n",
            "_________________________________________________________________\n",
            "conv2d_12 (Conv2D)           (None, 5, 5, 64)          36928     \n",
            "_________________________________________________________________\n",
            "activation_16 (Activation)   (None, 5, 5, 64)          0         \n",
            "_________________________________________________________________\n",
            "max_pooling2d_6 (MaxPooling2 (None, 1, 1, 64)          0         \n",
            "_________________________________________________________________\n",
            "dropout_10 (Dropout)         (None, 1, 1, 64)          0         \n",
            "_________________________________________________________________\n",
            "flatten_3 (Flatten)          (None, 64)                0         \n",
            "_________________________________________________________________\n",
            "dense_8 (Dense)              (None, 512)               33280     \n",
            "_________________________________________________________________\n",
            "activation_17 (Activation)   (None, 512)               0         \n",
            "_________________________________________________________________\n",
            "dropout_11 (Dropout)         (None, 512)               0         \n",
            "_________________________________________________________________\n",
            "dense_9 (Dense)              (None, 10)                5130      \n",
            "_________________________________________________________________\n",
            "activation_18 (Activation)   (None, 10)                0         \n",
            "=================================================================\n",
            "Total params: 103,978\n",
            "Trainable params: 103,978\n",
            "Non-trainable params: 0\n",
            "_________________________________________________________________\n",
            "Train on 50000 samples, validate on 10000 samples\n",
            "Epoch 1/10\n",
            "50000/50000 [==============================] - 5s 99us/step - loss: 1.9335 - acc: 0.2723 - val_loss: 1.6068 - val_acc: 0.3991\n",
            "Epoch 2/10\n",
            "50000/50000 [==============================] - 4s 84us/step - loss: 1.5790 - acc: 0.4186 - val_loss: 1.4793 - val_acc: 0.4572\n",
            "Epoch 3/10\n",
            "50000/50000 [==============================] - 4s 82us/step - loss: 1.4058 - acc: 0.4899 - val_loss: 1.3113 - val_acc: 0.5185\n",
            "Epoch 4/10\n",
            "50000/50000 [==============================] - 4s 81us/step - loss: 1.2828 - acc: 0.5383 - val_loss: 1.1594 - val_acc: 0.5823\n",
            "Epoch 5/10\n",
            "50000/50000 [==============================] - 4s 80us/step - loss: 1.1925 - acc: 0.5712 - val_loss: 1.0768 - val_acc: 0.6137\n",
            "Epoch 6/10\n",
            "50000/50000 [==============================] - 4s 81us/step - loss: 1.1231 - acc: 0.6004 - val_loss: 0.9817 - val_acc: 0.6536\n",
            "Epoch 7/10\n",
            "50000/50000 [==============================] - 4s 81us/step - loss: 1.0684 - acc: 0.6211 - val_loss: 1.0060 - val_acc: 0.6400\n",
            "Epoch 8/10\n",
            "50000/50000 [==============================] - 4s 80us/step - loss: 1.0220 - acc: 0.6386 - val_loss: 1.0102 - val_acc: 0.6373\n",
            "Epoch 9/10\n",
            "50000/50000 [==============================] - 4s 80us/step - loss: 0.9834 - acc: 0.6545 - val_loss: 0.9455 - val_acc: 0.6625\n",
            "Epoch 10/10\n",
            "50000/50000 [==============================] - 4s 80us/step - loss: 0.9538 - acc: 0.6634 - val_loss: 0.8687 - val_acc: 0.6924\n",
            "Test loss: 0.8686846175193786\n",
            "Test accuracy: 0.6924\n"
          ],
          "name": "stdout"
        }
      ]
    },
    {
      "metadata": {
        "id": "xgrHufhR4bbw",
        "colab_type": "code",
        "colab": {
          "base_uri": "https://localhost:8080/",
          "height": 1139
        },
        "outputId": "c698507c-2b98-4c4a-ca8a-bb24aa4705da"
      },
      "cell_type": "code",
      "source": [
        "compare(dense_n_units=128)"
      ],
      "execution_count": 10,
      "outputs": [
        {
          "output_type": "stream",
          "text": [
            "_________________________________________________________________\n",
            "Layer (type)                 Output Shape              Param #   \n",
            "=================================================================\n",
            "conv2d_13 (Conv2D)           (None, 32, 32, 32)        896       \n",
            "_________________________________________________________________\n",
            "activation_19 (Activation)   (None, 32, 32, 32)        0         \n",
            "_________________________________________________________________\n",
            "conv2d_14 (Conv2D)           (None, 30, 30, 32)        9248      \n",
            "_________________________________________________________________\n",
            "activation_20 (Activation)   (None, 30, 30, 32)        0         \n",
            "_________________________________________________________________\n",
            "max_pooling2d_7 (MaxPooling2 (None, 15, 15, 32)        0         \n",
            "_________________________________________________________________\n",
            "dropout_12 (Dropout)         (None, 15, 15, 32)        0         \n",
            "_________________________________________________________________\n",
            "conv2d_15 (Conv2D)           (None, 15, 15, 64)        18496     \n",
            "_________________________________________________________________\n",
            "activation_21 (Activation)   (None, 15, 15, 64)        0         \n",
            "_________________________________________________________________\n",
            "conv2d_16 (Conv2D)           (None, 13, 13, 64)        36928     \n",
            "_________________________________________________________________\n",
            "activation_22 (Activation)   (None, 13, 13, 64)        0         \n",
            "_________________________________________________________________\n",
            "max_pooling2d_8 (MaxPooling2 (None, 6, 6, 64)          0         \n",
            "_________________________________________________________________\n",
            "dropout_13 (Dropout)         (None, 6, 6, 64)          0         \n",
            "_________________________________________________________________\n",
            "flatten_4 (Flatten)          (None, 2304)              0         \n",
            "_________________________________________________________________\n",
            "dense_10 (Dense)             (None, 128)               295040    \n",
            "_________________________________________________________________\n",
            "activation_23 (Activation)   (None, 128)               0         \n",
            "_________________________________________________________________\n",
            "dropout_14 (Dropout)         (None, 128)               0         \n",
            "_________________________________________________________________\n",
            "dense_11 (Dense)             (None, 10)                1290      \n",
            "_________________________________________________________________\n",
            "activation_24 (Activation)   (None, 10)                0         \n",
            "=================================================================\n",
            "Total params: 361,898\n",
            "Trainable params: 361,898\n",
            "Non-trainable params: 0\n",
            "_________________________________________________________________\n",
            "Train on 50000 samples, validate on 10000 samples\n",
            "Epoch 1/10\n",
            "50000/50000 [==============================] - 6s 125us/step - loss: 1.8493 - acc: 0.3297 - val_loss: 1.6043 - val_acc: 0.4247\n",
            "Epoch 2/10\n",
            "50000/50000 [==============================] - 6s 112us/step - loss: 1.4618 - acc: 0.4789 - val_loss: 1.4409 - val_acc: 0.4838\n",
            "Epoch 3/10\n",
            "50000/50000 [==============================] - 5s 109us/step - loss: 1.2648 - acc: 0.5540 - val_loss: 1.0999 - val_acc: 0.6251\n",
            "Epoch 4/10\n",
            "50000/50000 [==============================] - 5s 104us/step - loss: 1.1321 - acc: 0.6043 - val_loss: 1.0028 - val_acc: 0.6526\n",
            "Epoch 5/10\n",
            "50000/50000 [==============================] - 5s 104us/step - loss: 1.0294 - acc: 0.6420 - val_loss: 0.9111 - val_acc: 0.6783\n",
            "Epoch 6/10\n",
            "50000/50000 [==============================] - 5s 103us/step - loss: 0.9632 - acc: 0.6652 - val_loss: 0.8462 - val_acc: 0.7045\n",
            "Epoch 7/10\n",
            "50000/50000 [==============================] - 5s 104us/step - loss: 0.9121 - acc: 0.6843 - val_loss: 0.8526 - val_acc: 0.7130\n",
            "Epoch 8/10\n",
            "50000/50000 [==============================] - 5s 103us/step - loss: 0.8677 - acc: 0.7012 - val_loss: 0.7686 - val_acc: 0.7313\n",
            "Epoch 9/10\n",
            "50000/50000 [==============================] - 5s 104us/step - loss: 0.8233 - acc: 0.7153 - val_loss: 0.7676 - val_acc: 0.7365\n",
            "Epoch 10/10\n",
            "50000/50000 [==============================] - 5s 103us/step - loss: 0.7976 - acc: 0.7249 - val_loss: 0.7615 - val_acc: 0.7386\n",
            "Test loss: 0.7615358032226562\n",
            "Test accuracy: 0.7386\n"
          ],
          "name": "stdout"
        }
      ]
    },
    {
      "metadata": {
        "id": "JcXFXAun4vDc",
        "colab_type": "text"
      },
      "cell_type": "markdown",
      "source": [
        "DNN 比較多：\n",
        "\n",
        "特徵的影像通常比整張影像還要小\n",
        "同一個特徵可能出現在圖片任意位置，因此辨識不同位置的相同特徵時可以共用權重"
      ]
    },
    {
      "metadata": {
        "id": "up7ZEooJ47ly",
        "colab_type": "code",
        "colab": {}
      },
      "cell_type": "code",
      "source": [
        ""
      ],
      "execution_count": 0,
      "outputs": []
    }
  ]
}