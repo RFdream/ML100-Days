{
 "cells": [
  {
   "cell_type": "code",
   "execution_count": 13,
   "metadata": {},
   "outputs": [],
   "source": [
    "import os\n",
    "import numpy as np\n",
    "import pandas as pd\n",
    "import chardet"
   ]
  },
  {
   "cell_type": "code",
   "execution_count": 4,
   "metadata": {},
   "outputs": [],
   "source": [
    "dir_data = '../Data'"
   ]
  },
  {
   "cell_type": "code",
   "execution_count": 15,
   "metadata": {},
   "outputs": [
    {
     "name": "stdout",
     "output_type": "stream",
     "text": [
      "Path of read in data: ../Data/HomeCredit_columns_description.csv\n",
      "{'encoding': 'Windows-1252', 'confidence': 0.73, 'language': ''}\n"
     ]
    }
   ],
   "source": [
    "f_app = os.path.join(dir_data, 'HomeCredit_columns_description.csv')\n",
    "print('Path of read in data: %s' % (f_app))\n",
    "with open(f_app, 'rb') as f:\n",
    "    result = chardet.detect(f.read())\n",
    "    print(result)\n",
    "app_train = pd.read_csv(f_app, encoding = result['encoding'])"
   ]
  },
  {
   "cell_type": "code",
   "execution_count": 7,
   "metadata": {},
   "outputs": [],
   "source": [
    "?pd.read_csv"
   ]
  },
  {
   "cell_type": "code",
   "execution_count": 24,
   "metadata": {},
   "outputs": [
    {
     "data": {
      "text/html": [
       "<div>\n",
       "<style scoped>\n",
       "    .dataframe tbody tr th:only-of-type {\n",
       "        vertical-align: middle;\n",
       "    }\n",
       "\n",
       "    .dataframe tbody tr th {\n",
       "        vertical-align: top;\n",
       "    }\n",
       "\n",
       "    .dataframe thead th {\n",
       "        text-align: right;\n",
       "    }\n",
       "</style>\n",
       "<table border=\"1\" class=\"dataframe\">\n",
       "  <thead>\n",
       "    <tr style=\"text-align: right;\">\n",
       "      <th></th>\n",
       "      <th>Unnamed: 0</th>\n",
       "      <th>Table</th>\n",
       "      <th>Row</th>\n",
       "      <th>Description</th>\n",
       "      <th>Special</th>\n",
       "    </tr>\n",
       "  </thead>\n",
       "  <tbody>\n",
       "    <tr>\n",
       "      <th>214</th>\n",
       "      <td>217</td>\n",
       "      <td>installments_payments.csv</td>\n",
       "      <td>NUM_INSTALMENT_NUMBER</td>\n",
       "      <td>On which installment we observe payment</td>\n",
       "      <td>NaN</td>\n",
       "    </tr>\n",
       "    <tr>\n",
       "      <th>215</th>\n",
       "      <td>218</td>\n",
       "      <td>installments_payments.csv</td>\n",
       "      <td>DAYS_INSTALMENT</td>\n",
       "      <td>When the installment of previous credit was su...</td>\n",
       "      <td>time only relative to the application</td>\n",
       "    </tr>\n",
       "    <tr>\n",
       "      <th>216</th>\n",
       "      <td>219</td>\n",
       "      <td>installments_payments.csv</td>\n",
       "      <td>DAYS_ENTRY_PAYMENT</td>\n",
       "      <td>When was the installments of previous credit p...</td>\n",
       "      <td>time only relative to the application</td>\n",
       "    </tr>\n",
       "    <tr>\n",
       "      <th>217</th>\n",
       "      <td>220</td>\n",
       "      <td>installments_payments.csv</td>\n",
       "      <td>AMT_INSTALMENT</td>\n",
       "      <td>What was the prescribed installment amount of ...</td>\n",
       "      <td>NaN</td>\n",
       "    </tr>\n",
       "    <tr>\n",
       "      <th>218</th>\n",
       "      <td>221</td>\n",
       "      <td>installments_payments.csv</td>\n",
       "      <td>AMT_PAYMENT</td>\n",
       "      <td>What the client actually paid on previous cred...</td>\n",
       "      <td>NaN</td>\n",
       "    </tr>\n",
       "  </tbody>\n",
       "</table>\n",
       "</div>"
      ],
      "text/plain": [
       "     Unnamed: 0                      Table                    Row  \\\n",
       "214         217  installments_payments.csv  NUM_INSTALMENT_NUMBER   \n",
       "215         218  installments_payments.csv        DAYS_INSTALMENT   \n",
       "216         219  installments_payments.csv     DAYS_ENTRY_PAYMENT   \n",
       "217         220  installments_payments.csv         AMT_INSTALMENT   \n",
       "218         221  installments_payments.csv            AMT_PAYMENT   \n",
       "\n",
       "                                           Description  \\\n",
       "214            On which installment we observe payment   \n",
       "215  When the installment of previous credit was su...   \n",
       "216  When was the installments of previous credit p...   \n",
       "217  What was the prescribed installment amount of ...   \n",
       "218  What the client actually paid on previous cred...   \n",
       "\n",
       "                                   Special  \n",
       "214                                    NaN  \n",
       "215  time only relative to the application  \n",
       "216  time only relative to the application  \n",
       "217                                    NaN  \n",
       "218                                    NaN  "
      ]
     },
     "execution_count": 24,
     "metadata": {},
     "output_type": "execute_result"
    }
   ],
   "source": [
    "app_train.head()##See first 5 Rows in app_train\n",
    "app_train.head(10)##See first 10 Rows in app_train\n",
    "app_train.tail(5)##See end 5 Rows in app_train"
   ]
  },
  {
   "cell_type": "code",
   "execution_count": 25,
   "metadata": {},
   "outputs": [
    {
     "name": "stdout",
     "output_type": "stream",
     "text": [
      "Number of Rows: 219\n",
      "Number of Columns: 5\n",
      "(219, 5)\n"
     ]
    }
   ],
   "source": [
    "print('Number of Rows:', app_train.shape[0])\n",
    "print('Number of Columns:', app_train.shape[1])\n",
    "(R,C) = app_train.shape\n",
    "print((R,C))"
   ]
  },
  {
   "cell_type": "code",
   "execution_count": 26,
   "metadata": {},
   "outputs": [
    {
     "name": "stdout",
     "output_type": "stream",
     "text": [
      "Index(['Unnamed: 0', 'Table', 'Row', 'Description', 'Special'], dtype='object')\n"
     ]
    }
   ],
   "source": [
    "label = app_train.columns\n",
    "print(label)"
   ]
  },
  {
   "cell_type": "code",
   "execution_count": null,
   "metadata": {},
   "outputs": [],
   "source": []
  }
 ],
 "metadata": {
  "kernelspec": {
   "display_name": "Python 3",
   "language": "python",
   "name": "python3"
  },
  "language_info": {
   "codemirror_mode": {
    "name": "ipython",
    "version": 3
   },
   "file_extension": ".py",
   "mimetype": "text/x-python",
   "name": "python",
   "nbconvert_exporter": "python",
   "pygments_lexer": "ipython3",
   "version": "3.7.0"
  }
 },
 "nbformat": 4,
 "nbformat_minor": 2
}
